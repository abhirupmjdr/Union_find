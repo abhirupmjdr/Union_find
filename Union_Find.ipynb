{
  "nbformat": 4,
  "nbformat_minor": 0,
  "metadata": {
    "colab": {
      "name": "Union Find.ipynb",
      "provenance": [],
      "collapsed_sections": [],
      "include_colab_link": true
    },
    "kernelspec": {
      "name": "python3",
      "display_name": "Python 3"
    },
    "accelerator": "TPU"
  },
  "cells": [
    {
      "cell_type": "markdown",
      "metadata": {
        "id": "view-in-github",
        "colab_type": "text"
      },
      "source": [
        "<a href=\"https://colab.research.google.com/github/amder111/Union_find/blob/master/Union_Find.ipynb\" target=\"_parent\"><img src=\"https://colab.research.google.com/assets/colab-badge.svg\" alt=\"Open In Colab\"/></a>"
      ]
    },
    {
      "cell_type": "code",
      "metadata": {
        "id": "h27OXPpuzqLN",
        "colab_type": "code",
        "colab": {}
      },
      "source": [
        "from random import randint\n",
        "import matplotlib.pyplot as plt\n",
        "from pandas import DataFrame"
      ],
      "execution_count": 0,
      "outputs": []
    },
    {
      "cell_type": "code",
      "metadata": {
        "id": "itunLBc0t3lF",
        "colab_type": "code",
        "colab": {}
      },
      "source": [
        "class UFO_Array:\n",
        "    def __init__(self, num_sets):\n",
        "        self.array = [i for i in range(num_sets)]\n",
        "    def find_set(self, v):\n",
        "        return self.array[v], 1\n",
        "    def union(self, x, y):\n",
        "        y_set = self.array[y]\n",
        "        x_set = self.array[x]\n",
        "        comp = 0\n",
        "        sets = 0\n",
        "        set_seen = set()\n",
        "        for index, value in enumerate(self.array):\n",
        "            comp += 2\n",
        "            if (value == y_set):\n",
        "                self.array[index] = x_set\n",
        "            if (value not in set_seen):\n",
        "                sets += 1\n",
        "                set_seen.add(value)\n",
        "        return sets, comp"
      ],
      "execution_count": 0,
      "outputs": []
    },
    {
      "cell_type": "code",
      "metadata": {
        "id": "BLyfmTpJug9H",
        "colab_type": "code",
        "colab": {}
      },
      "source": [
        "class LL_Node:\n",
        "    def __init__(self, val):\n",
        "        self.val = val\n",
        "        self.head_ptr = None\n",
        "        self.rear_ptr = None\n",
        "        self.next_ptr = None\n",
        "class LL:\n",
        "    def __init__(self, val):\n",
        "        node = LL_Node(val)\n",
        "        self.head_ptr = node\n",
        "        self.rear_ptr = node\n",
        "        self.rank = 1\n",
        "        node.head_ptr = self.head_ptr\n",
        "        node.rear_ptr = self.rear_ptr"
      ],
      "execution_count": 0,
      "outputs": []
    },
    {
      "cell_type": "code",
      "metadata": {
        "id": "pb7vUcLgvP8x",
        "colab_type": "code",
        "colab": {}
      },
      "source": [
        "class UFO_LL:\n",
        "    def __init__(self, num_sets):\n",
        "        self.tracker = {}\n",
        "\n",
        "        for i in range(num_sets):\n",
        "            self.tracker[i] = LL(i)\n",
        "    def find_set(self, val):\n",
        "        return self.tracker[val].head_ptr.val, 1\n",
        "    def union(self, x, y):\n",
        "        sets = 0\n",
        "        set_seen = set()\n",
        "        s1 = self.tracker[x]\n",
        "        s2 = self.tracker[y]\n",
        "        if (s1.head_ptr.val != s2.head_ptr.val):\n",
        "            if (s1.rank < s2.rank):\n",
        "                ptr1 = s1.head_ptr\n",
        "                ptr2 = s2.head_ptr\n",
        "                s2.rank += s1.rank\n",
        "            else:\n",
        "                ptr1 = s2.head_ptr\n",
        "                ptr2 = s1.head_ptr\n",
        "                s1.rank += s2.rank\n",
        "        while (ptr1):\n",
        "            ptr2.rear_ptr.next_ptr = ptr1\n",
        "            ptr2.rear_ptr = ptr2.rear_ptr.next_ptr\n",
        "            ptr2.rear_ptr.head_ptr = ptr2.head_ptr\n",
        "            ptr1 = ptr1.next_ptr\n",
        "            if ((ptr1 and ptr2) and (ptr1.head_ptr.val == ptr2.head_ptr.val)):\n",
        "                break\n",
        "        for i in self.tracker:\n",
        "            s, _ = self.find_set(i)\n",
        "            if (s not in set_seen):\n",
        "                sets += 1\n",
        "                set_seen.add(s)\n",
        "        return s, s1.rank + s2.rank"
      ],
      "execution_count": 0,
      "outputs": []
    },
    {
      "cell_type": "code",
      "metadata": {
        "id": "Pu7MxtSmv7XV",
        "colab_type": "code",
        "colab": {}
      },
      "source": [
        "class Forest_Node:\n",
        "    def __init__(self, parent, rank):\n",
        "        self.parent = parent\n",
        "        self.rank = rank\n",
        "class UFO_Forest:\n",
        "    def __init__(self, num_sets):\n",
        "        self.subsets = {v: Forest_Node(v, 1) for v in range(num_sets)}\n",
        "    def find_set(self, node):\n",
        "        if (self.subsets[node].parent != node):\n",
        "            self.subsets[node].parent, _ = self.find_set(self.subsets[node].parent)\n",
        "        return self.subsets[node].parent, 1\n",
        "    def union(self, u, v):\n",
        "        if (self.subsets[u].rank > self.subsets[v].rank):\n",
        "            self.subsets[v].parent = u\n",
        "            return self.subsets[u], 1\n",
        "        elif (self.subsets[v].rank > self.subsets[u].rank):\n",
        "            self.subsets[u].parent = v\n",
        "            return self.subsets[v], 2\n",
        "        else:\n",
        "            self.subsets[v].parent = u\n",
        "            self.subsets[u].rank += 1\n",
        "            return self.subsets[v], 3\n",
        "def run_exp(limit, num_sets, UFO):\n",
        "    ufo = UFO(num_sets)\n",
        "    c = 0\n",
        "    sets = num_sets\n",
        "    for _ in range(limit):\n",
        "        if (sets == 1):\n",
        "            _, c_temp = ufo.find_set(randint(0, num_sets-1))\n",
        "            c += c_temp\n",
        "\n",
        "        else:\n",
        "            r = randint(1, 100)\n",
        "            if (r > 50):\n",
        "                _, c_temp = ufo.find_set(randint(0, num_sets-1))\n",
        "                c += c_temp\n",
        "            else:\n",
        "                a = randint(0, num_sets-1)\n",
        "                b = randint(0, num_sets-1)\n",
        "                while (a == b):\n",
        "                    a = randint(0, num_sets-1)\n",
        "                    b = randint(0, num_sets-1)\n",
        "                sets, c_temp = ufo.union(a, b)\n",
        "                c += c_temp\n",
        "    return c"
      ],
      "execution_count": 0,
      "outputs": []
    },
    {
      "cell_type": "code",
      "metadata": {
        "id": "Gxmfx9Phw1q2",
        "colab_type": "code",
        "outputId": "48653847-ef85-4d1b-a2c9-49a3de07cef0",
        "colab": {
          "base_uri": "https://localhost:8080/",
          "height": 295
        }
      },
      "source": [
        "num_sets = 1000\n",
        "operations = [100, 500, 1000, 2000, 3000]\n",
        "comparisons_arr = []\n",
        "comparisons_ll = []\n",
        "comparisons_forest = []\n",
        "for operation in operations:\n",
        "    comparisons_arr.append(run_exp(operation, num_sets, UFO_Array))\n",
        "    comparisons_ll.append(run_exp(operation, num_sets, UFO_LL))\n",
        "    comparisons_forest.append(run_exp(operation, num_sets, UFO_Forest))\n",
        "df = DataFrame({\"Array\": comparisons_arr, \"Linked List\": comparisons_ll, \"Forest\":\n",
        "comparisons_forest, \"Operations\": operations})\n",
        "ax = plt.gca()\n",
        "df.plot(kind='line', x='Operations', y='Array', color='blue', ax=ax)\n",
        "df.plot(kind='scatter', x='Operations', y='Array', color='blue', ax=ax)\n",
        "df.plot(kind='line', x='Operations', y='Linked List', color='orange', ax=ax)\n",
        "df.plot(kind='scatter', x='Operations', y='Linked List', color='orange', ax=ax)\n",
        "df.plot(kind='line', x='Operations', y='Forest', color='green', ax=ax)\n",
        "df.plot(kind='scatter', x='Operations', y='Forest', color='green', ax=ax)\n",
        "\n",
        "plt.xlabel(\"Operations\")\n",
        "plt.ylabel(\"Comparisions\")\n",
        "plt.title(\"Comparison vs Operations for Union Find Algorithm\")\n",
        "plt.show()"
      ],
      "execution_count": 0,
      "outputs": [
        {
          "output_type": "display_data",
          "data": {
            "image/png": "[encoded data removed]",
            "text/plain": [
              "<Figure size 432x288 with 1 Axes>"
            ]
          },
          "metadata": {
            "tags": []
          }
        }
      ]
    },
    {
      "cell_type": "code",
      "metadata": {
        "id": "VeOy2LeuxAmc",
        "colab_type": "code",
        "colab": {}
      },
      "source": [
        ""
      ],
      "execution_count": 0,
      "outputs": []
    }
  ]
}